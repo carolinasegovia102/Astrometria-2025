{
 "cells": [
  {
   "cell_type": "markdown",
   "id": "92c9488f",
   "metadata": {},
   "source": [
    "## PROBLEMA 9\n",
    "\n",
    "Se sabe que la vida en horas de un foco de 100 watts de cierta marca tiene una distribucion aproximadamente normal con desviacion estandar de 30 horas. Para una muestra al azar de 50 focos y resulto que la vida media fue de 1550 horas. Construya un intervalo de confianza del 95% para el verdadero promedio de vida de estos focos."
   ]
  },
  {
   "cell_type": "code",
   "execution_count": null,
   "id": "4f07057d",
   "metadata": {},
   "outputs": [
    {
     "name": "stdout",
     "output_type": "stream",
     "text": [
      "z_0.975 = 1.9599639845400536\n",
      "SE = 4.242640687119285\n",
      "Margen de error = 8.315422946098064\n",
      "IC 95% = (1541.7, 1558.3)\n"
     ]
    }
   ],
   "source": [
    "from statistics import NormalDist\n",
    "import math\n",
    "\n",
    "# Datos del ejercicio:\n",
    "n = 50\n",
    "xbar = 1550.0\n",
    "sigma = 30.0\n",
    "alpha = 0.05\n",
    "\n",
    "# 1) Cuantil z para 95% bilateral. Prueba bilateral\n",
    "z_975 = NormalDist().inv_cdf(1 - alpha/2)   \n",
    "print(\"z_0.975 =\", z_975)  \n",
    "\n",
    "# 2) Error estándar de la media\n",
    "se = sigma / math.sqrt(n)\n",
    "print(\"SE =\", se)\n",
    "\n",
    "# 3) Margen de error e intervalo\n",
    "margin = z_975 * se\n",
    "IC_low  = xbar - margin\n",
    "IC_high = xbar + margin\n",
    "\n",
    "print(\"Margen de error =\", margin)\n",
    "print(\"IC 95% = ({:.1f}, {:.1f})\".format(IC_low, IC_high))\n"
   ]
  },
  {
   "cell_type": "markdown",
   "id": "8a9ab753",
   "metadata": {},
   "source": [
    "## EJERCICIO 10\n",
    "\n",
    "Las mediciones del numero de cigarros fumados al dıa por un grupo de diez fumadores es el siguiente: 5, 10, 3, 4, 5, 8, 20, 4, 1, 10. Realice la prueba de hipotesis H0 : µ = 10 vs H1 : µ < 10, suponiendo que los datos provienen de una muestra tomada al azar de una poblacion normal con σ = 1.2. Use un nivel de significancia del 95%."
   ]
  },
  {
   "cell_type": "code",
   "execution_count": null,
   "id": "59af5553",
   "metadata": {},
   "outputs": [
    {
     "name": "stdout",
     "output_type": "stream",
     "text": [
      "Z observado = -7.905694150420949\n",
      "z crítico = -1.6448536269514715\n",
      "p-value = 1.3322676295501878e-15\n"
     ]
    }
   ],
   "source": [
    "from statistics import NormalDist\n",
    "import math\n",
    "\n",
    "# Datos del problema:\n",
    "mu0 = 10      # media bajo H0\n",
    "xbar = 7      # media muestral\n",
    "sigma = 1.2   # desviación estándar poblacional\n",
    "n = 10\n",
    "alpha = 0.05  # nivel de significancia\n",
    "\n",
    "# Estadístico Z\n",
    "Z = (xbar - mu0) / (sigma / math.sqrt(n))\n",
    "print(\"Z observado =\", Z)\n",
    "\n",
    "# Valor crítico para prueba unilateral izquierda\n",
    "z_crit = -NormalDist().inv_cdf(1 - alpha)\n",
    "print(\"z crítico =\", z_crit)\n",
    "\n",
    "# Valor-p \n",
    "p_value = NormalDist().cdf(Z)\n",
    "print(\"p-value =\", p_value)\n"
   ]
  }
 ],
 "metadata": {
  "kernelspec": {
   "display_name": "astrometria",
   "language": "python",
   "name": "python3"
  },
  "language_info": {
   "codemirror_mode": {
    "name": "ipython",
    "version": 3
   },
   "file_extension": ".py",
   "mimetype": "text/x-python",
   "name": "python",
   "nbconvert_exporter": "python",
   "pygments_lexer": "ipython3",
   "version": "3.13.5"
  }
 },
 "nbformat": 4,
 "nbformat_minor": 5
}
