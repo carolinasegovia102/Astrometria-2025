{
 "cells": [
  {
   "cell_type": "markdown",
   "id": "dce1a270",
   "metadata": {},
   "source": [
    "## Planteo y variables aleatorias\n",
    "\n",
    "Sobre una mesa hay rectas paralelas separadas una distancia fija t.\n",
    "\n",
    "Se arroja una aguja de longitud l con posición y orientación aleatorias.\n",
    "\n",
    "Definimos:\n",
    "\n",
    "-x: distancia desde el centro de la aguja a la raya paralela más cercana (medida perpendicularmente a las rayas).\n",
    "\n",
    "-θ: ángulo agudo entre la aguja y la dirección de las rayas (es decir, el ángulo entre la aguja y la línea paralela a las rayas), por lo que θ∈[0,π/2].\n",
    "\n",
    "Por simetría:\n",
    "\n",
    "El centro de la aguja es uniforme entre dos rayas consecutivas, así que x∈[0,t/2] y\n",
    "\n",
    "$f_{X}(x)=\\frac{2}{t}$     con               $(0≤x≤t/2)$\n",
    "\n",
    "\n",
    "La orientación es uniforme en [0,π/2], así que\n",
    "\n",
    "$f_{Θ}(θ)=\\frac{2}{π}$       con            $(0≤θ≤π/2)$\n",
    "\n",
    "Posición y orientación son independientes."
   ]
  },
  {
   "cell_type": "markdown",
   "id": "c299f7d0",
   "metadata": {},
   "source": [
    "### (a) Densidad conjunta de (x,θ)\n",
    "\n",
    "$f_{X,Θ}(x,θ)=f_{X}(x) f_{Θ}(θ)=\\frac{2}{t} \\frac{2}{\\pi}=  \\frac{4}{\\pi t} $  $ para (x,θ)∈[0,t/2]×[0,π/2]$\n",
    "\n",
    "0 fuera de ese rectángulo.\n",
    "\n",
    "*Condición geométrica de cruce (tocar una raya)*\n",
    "\n",
    "La aguja toca (cruza) una raya si la proyección de media aguja en la dirección perpendicular a las rayas supera la distancia \n",
    "x. Esa proyección vale (l/2)sinθ. Por lo tanto, ocurre cruce si y solo si\n",
    "\n",
    "  $ \\boxed{x≤\\frac {l}{2} sin⁡θ}  $\n"
   ]
  },
  {
   "cell_type": "markdown",
   "id": "23b4dee8",
   "metadata": {},
   "source": [
    "### (b) Probabilidad de cruce cuando $ l < t $\n",
    "\n",
    "Para $l < t $, el máximo de $ \\frac{l}{2}\\sin\\theta$ es $ l/2 < t/2 $, así que la cota interior nunca supera $ t/2 $ y podemos integrar directo:\n",
    "\n",
    "$\n",
    "\\mathbb{P}(\\text{cruce}) \\;=\\; \\int_{0}^{\\pi/2} \\int_{0}^{(l/2)\\sin\\theta} \\frac{4}{\\pi t}\\, dx \\, d\\theta = \\frac{4}{\\pi t} \\int_{0}^{\\pi/2} \\frac{l}{2} \\sin\\theta \\, d\\theta\n",
    "$\n",
    "\n",
    "$\n",
    "= \\frac{2l}{\\pi t} \\int_{0}^{\\pi/2} \\sin\\theta \\, d\\theta\n",
    "= \\frac{2l}{\\pi t}\\,\\underbrace{\\left[ -\\cos\\theta \\right]_{0}^{\\pi/2}}_{=1}\n",
    "= \\boxed{\\frac{2l}{\\pi t}}.\n",
    "$"
   ]
  },
  {
   "cell_type": "markdown",
   "id": "ebd63c6b",
   "metadata": {},
   "source": [
    "### (c) Estimación de $\\pi$ por Monte Carlo\n",
    "\n",
    "Reordenando la fórmula para $l < t $:\n",
    "\n",
    "$\n",
    "\\mathbb{P}(\\text{cruce}) = p = \\frac{2l}{\\pi t} \n",
    "\\;\\;\\;\\Longrightarrow\\;\\;\\;\n",
    "\\pi = \\frac{2l}{t p}.\n",
    "$\n",
    "\n",
    "\n",
    "\n",
    "Si realizamos N lanzamientos independientes y contamos H cruces, \n",
    "$\\hat{p} = H/N$ es el estimador natural de $p$ (proporción muestral), y\n",
    "\n",
    "$\n",
    "\\hat{\\pi} = \\frac{2l}{t \\hat{p}} = \\frac{2l N}{t H}\n",
    "$\n",
    "\n",
    "es un estimador de $\\pi$.\n",
    "\n",
    "\n",
    "\n",
    "### Precisión (error estándar y CIs rápidos)\n",
    "\n",
    "- $H \\sim \\text{Binomial}(N,p) \\;\\;\\Rightarrow\\;\\; \\mathbb{E}[\\hat{p}] = p, \\quad \\text{Var}(\\hat{p}) = \\frac{p(1-p)}{N}. $\n",
    "\n"
   ]
  },
  {
   "cell_type": "markdown",
   "id": "b718d27c",
   "metadata": {},
   "source": [
    "### Algoritmo de simulación (caso $l < t $)\n",
    "\n",
    "1. Fijar t y l con $0 < l < t$. Elegir N\n",
    "\n",
    "2. Para cada lanzamiento:\n",
    "   - Generar $x \\sim u(0, t/2)$.\n",
    "   - Generar $\\theta \\sim u(0, \\pi/2)$ (independiente).\n",
    "   - Registrar **cruce** si $x \\leq (l/2)\\sin \\theta$.\n",
    "\n",
    "3. Calcular $H = \\text{número de cruces}$ y \n",
    "   $\\hat{p} = H/N$.\n",
    "\n",
    "4. Estimar $\\pi$ con \n",
    "   $\n",
    "   \\hat{\\pi} = \\frac{2l}{t \\hat{p}}.\n",
    "   $\n",
    "\n",
    "\n"
   ]
  },
  {
   "cell_type": "markdown",
   "id": "3b04c40b",
   "metadata": {},
   "source": [
    "### 1. Definición de H y N\n",
    "\n",
    "- N = número **total** de lanzamientos de la aguja (por ejemplo N = 100000).\n",
    "- H = número de lanzamientos en los que la aguja **tocó una raya**.\n",
    "\n",
    "Por lo tanto,\n",
    "\n",
    "$\n",
    "\\hat{p} = \\frac{H}{N}\n",
    "$\n",
    "\n",
    "es simplemente la **frecuencia relativa** (o proporción) de éxitos observados en el experimento.\n",
    "\n",
    "---\n",
    "\n",
    "### 2. Relación con la probabilidad teórica\n",
    "\n",
    "Del marco teórico vimos que la probabilidad de cruce es\n",
    "\n",
    "$\n",
    "p = \\frac{2l}{\\pi t}, \\quad \\text{cuando } l < t.\n",
    "$\n",
    "\n",
    "Esto significa que, **si repites infinitos lanzamientos**, la proporción de cruces tendería exactamente a ese valor $p$.\n"
   ]
  },
  {
   "cell_type": "markdown",
   "id": "1539f3f8",
   "metadata": {},
   "source": [
    "### 3. De la proporción observada a $\\pi$\n",
    "\n",
    "En la práctica solo hacemos N lanzamientos, obtenemos H, y calculamos:\n",
    "\n",
    "$\n",
    "\\hat{p} = \\frac{H}{N}.\n",
    "$\n",
    "\n",
    "La idea del método de Monte Carlo es **invertir** la fórmula para despejar $\\pi$:\n",
    "\n",
    "$\n",
    "p = \\frac{2l}{\\pi t} \n",
    "\\;\\;\\;\\Longrightarrow\\;\\;\\;\n",
    "\\pi = \\frac{2l}{t p}.\n",
    "$\n",
    "\n",
    "Entonces, reemplazamos la probabilidad teórica $p$ por la estimada empíricamente $\\hat{p}$:\n",
    "\n",
    "$\n",
    "\\hat{\\pi} = \\frac{2l}{t \\hat{p}}\n",
    "= \\frac{2l}{t \\,(H/N)}\n",
    "= \\frac{2l N}{t H}.\n",
    "$\n"
   ]
  },
  {
   "cell_type": "code",
   "execution_count": null,
   "id": "8e4334ec",
   "metadata": {},
   "outputs": [],
   "source": [
    "def experimento_buffon(t, l, N):\n",
    "    import numpy as np\n",
    "\n",
    "    # Contador de cruces\n",
    "    H = 0  # número de lanzamientos que cruzan una raya, este valor inicia en 0\n",
    "\n",
    "    for i in range(N): # repetir N veces el experimento\n",
    "        # Generar x y theta aleatoriamente\n",
    "        x = np.random.uniform(0, t/2)  # x en [0, t/2]\n",
    "        theta = np.random.uniform(0, np.pi/2)  # theta en [0, pi/2]\n",
    "\n",
    "        # Verificar si la aguja cruza una raya\n",
    "        if x <= (l/2) * np.sin(theta): # condición de cruce\n",
    "            H = H + 1 # incrementar el contador de cruces si ocurre un cruce\n",
    "\n",
    "    # Estimación de pi\n",
    "    if H == 0:\n",
    "        return None  # Evito división por cero\n",
    "    pi_estimada = (2 * l * N) / (t * H)\n",
    "    return pi_estimada"
   ]
  },
  {
   "cell_type": "code",
   "execution_count": null,
   "id": "ae558ab3",
   "metadata": {},
   "outputs": [
    {
     "name": "stdout",
     "output_type": "stream",
     "text": [
      "Estimación de pi con 10000000 lanzamientos: 3.141615217481455\n"
     ]
    }
   ],
   "source": [
    "# Parámetros del experimento, los cuales pueden ser modificados.\n",
    "# Asegurarse que l < t\n",
    "# Por ejemplo:\n",
    "t = 2.0  # distancia entre rayas\n",
    "l = 1.0  # longitud de la aguja (l < t)\n",
    "N = 10000000  # número de lanzamientos\n",
    "\n",
    "pi_estimado = experimento_buffon(t, l, N)\n",
    "print(f\"Estimación de pi con {N} lanzamientos: {pi_estimado}\")"
   ]
  }
 ],
 "metadata": {
  "kernelspec": {
   "display_name": "astrometria",
   "language": "python",
   "name": "python3"
  },
  "language_info": {
   "codemirror_mode": {
    "name": "ipython",
    "version": 3
   },
   "file_extension": ".py",
   "mimetype": "text/x-python",
   "name": "python",
   "nbconvert_exporter": "python",
   "pygments_lexer": "ipython3",
   "version": "3.13.5"
  }
 },
 "nbformat": 4,
 "nbformat_minor": 5
}
