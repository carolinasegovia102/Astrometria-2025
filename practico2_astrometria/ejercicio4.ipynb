{
 "cells": [
  {
   "cell_type": "markdown",
   "id": "efa61437",
   "metadata": {},
   "source": [
    "## 1.Proceso de Poisson\n",
    "Un proceso de Poisson es un modelo matematico que describe la ocurrencia de eventos en el tiempo, suponiendo:\n",
    "\n",
    "-Los eventos ocurren de manera independiente.\n",
    "\n",
    "-La tasa promedio de ocurrencia es constante: $\\lambda = 5$ eventos por hora en este caso.\n",
    "\n",
    "-El numero de eventos en un intervalo de longitud fija sigue una distribucion de Poisson:\n",
    "\n",
    "$ P(N(T)=k)=\\frac{e^{−λT}(λT)^k​}{k!}$\n",
    "\n",
    "Aqui:\n",
    "\n",
    "-N(T)= numero de eventos en el tiempo T.\n",
    "\n",
    "-λT= media y varianza de la distribucion de Poisson."
   ]
  },
  {
   "cell_type": "markdown",
   "id": "c1796cfa",
   "metadata": {},
   "source": [
    "## 2. Distribución exponencial (tiempos entre eventos)\n",
    "\n",
    "Aunque el conteo de eventos en un intervalo sigue una Poisson, los tiempos entre eventos consecutivos se distribuyen de manera exponencial con parámetro λ:\n",
    "\n",
    "$f(x) = \\lambda e^{-\\lambda x}$\n",
    "\n",
    "Esto significa:\n",
    "\n",
    "-El tiempo de espera hasta el proximo evento tiene valor esperado 1/ $\\lambda$.\n",
    "\n",
    "-En este ejercicio: $E[X]=\\frac{1}{5}=0.2h=12min$\n"
   ]
  },
  {
   "cell_type": "markdown",
   "id": "6a26872f",
   "metadata": {},
   "source": [
    "## 3. Función de distribución acumulada (CDF)\n",
    "\n",
    "La CDF de la exponencial es:\n",
    "\n",
    "$F(x)=1−e^{−λx}$\n",
    "\n",
    "Nos da la probabilidad de que el tiempo hasta el próximo evento sea menor que x. Notar que si x es aproximadamente 12min entonces hay mayor probabilidad que los tiempos entre eventos sean cortos."
   ]
  },
  {
   "cell_type": "markdown",
   "id": "f3caf2ff",
   "metadata": {},
   "source": [
    "## 4. Método de la transformada inversa\n",
    "\n",
    "Para simular variables aleatorias exponenciales, se utiliza el método de la transformada inversa:\n",
    "\n",
    "-Se genera un número aleatorio uniforme u∼u(0,1).\n",
    "\n",
    "-Se iguala:\n",
    "\n",
    "$u=F(x)=1−e^{−λx}$\n",
    "\n",
    "-Despejando:\n",
    "\n",
    "$x=−\\frac{1}{λ}ln⁡(1−u)$\n",
    "\n",
    "Esto nos da los tiempos entre eventos."
   ]
  },
  {
   "cell_type": "markdown",
   "id": "943a4553",
   "metadata": {},
   "source": [
    "## 5. Simulación hasta un tiempo finito T\n",
    "\n",
    "-El algoritmo conceptual es:\n",
    "\n",
    "1)Se empieza en t=0.\n",
    "\n",
    "2)Se genera un tiempo de espera exponencial x. (Son los incrementos en el tiempo acumulado).\n",
    "\n",
    "3)Se suma: t←t+x , es decir t = t + x es el tiempo acumulado, donde x son los incrementos de tiempo entre los eventos (es decir x modela el tiempo entre eventos y sigue una distribucion exponencial).\n",
    "\n",
    "4)Si t≤T, se cuenta un evento; si no, se detiene.\n",
    "\n",
    "5)Repetir.\n",
    "\n",
    "Al final tendremos una secuencia de tiempos de ocurrencia de los eventos en [0,T]. Para cada evento se le asocia un tiempo."
   ]
  },
  {
   "cell_type": "markdown",
   "id": "a788b56d",
   "metadata": {},
   "source": [
    "## 6. Conexión entre exponencial y Poisson\n",
    "\n",
    "-Si contamos cuántos eventos ocurrieron en el intervalo de longitud  T=3 horas, ese número debe seguir una Poisson con parámetro λT=5⋅3=15.\n",
    "\n",
    "-Es decir: en promedio deberían ocurrir 15 eventos en esas 3 horas."
   ]
  },
  {
   "cell_type": "markdown",
   "id": "aa8c14b3",
   "metadata": {},
   "source": [
    "## EN RESUMEN:\n",
    "\n",
    "-Distribución exponencial → modela el tiempo entre eventos.\n",
    "\n",
    "-Proceso de Poisson → modela el número total de eventos en un intervalo fijo.\n",
    "\n",
    "-Transformada inversa → técnica para generar los tiempos de espera (saltos) a partir de uniformes.\n",
    "\n",
    "-Simulación → acumular saltos hasta el tiempo total \n",
    "T=3.\n",
    "\n",
    "Distribución exponencial: La distribución exponencial viene dada por:\n",
    "\n",
    "$f(x)=\\lambda e^{-\\lambda x}$\n",
    "\n",
    "y podemos calcular su CDF como:\n",
    "\n",
    "$F(x)=\\int_0^x \\lambda e^{-\\lambda x'}dx' = 1 - e^{-\\lambda x}$\n",
    "\n",
    "cuya inversa resulta en:\n",
    "    \n",
    "$y = 1 - e^{-\\lambda x} \\quad\\Longleftrightarrow\\quad x = -\\frac{\\ln(1-y)}{\\lambda}$\n",
    "\n",
    "Si repetimos muchas veces el experimento, el resultado en un intervalo de longitud fija debe aproximar una distribución de Poisson, la cual viene dada por:\n",
    "\n",
    "$p(k)=\\frac{e^{-\\lambda}\\lambda^{k}}{k!}$\n"
   ]
  },
  {
   "cell_type": "code",
   "execution_count": null,
   "id": "1b8c5a7e",
   "metadata": {},
   "outputs": [
    {
     "name": "stdout",
     "output_type": "stream",
     "text": [
      "Tasa λ = 5.0/h, horizonte T = 3.0 h\n",
      "Número de eventos simulados N(T) = 15 (esperado ≈ λ·T = 15)\n",
      "Tiempos de ocurrencia (h):\n",
      "[0.0256 0.1672 0.1745 0.4807 0.8297 0.8396 0.9769 1.3968 2.073  2.3077\n",
      " 2.5095 2.5553 2.7843 2.8759 2.8806]\n",
      "\n",
      "Validación (empírico vs. teoría Poisson(λT)):\n",
      "Media empírica    ≈ 15.050    (teórica: 15.000)\n"
     ]
    }
   ],
   "source": [
    "import numpy as np\n",
    "\n",
    "def simulate_poisson_process(lam, T ):\n",
    "    \"\"\"\n",
    "    Simula un proceso de Poisson homogéneo con tasa lam (eventos por unidad de tiempo)\n",
    "    hasta el tiempo T, usando el método de la transformada inversa para los tiempos\n",
    "    entre eventos (Exponencial(lam)).\n",
    "\n",
    "    Devuelve:\n",
    "      - event_times: array con los tiempos de ocurrencia en (0, T]\n",
    "      - n_events: cantidad total de eventos en [0, T]\n",
    "    \"\"\"\n",
    "\n",
    "\n",
    "    t = 0.0\n",
    "    event_times = [] # Lista para almacenar los tiempos de eventos.\n",
    "\n",
    "    while True: # Bucle hasta que el tiempo exceda T\n",
    "        # Genero U ~ Uniform(0,1)\n",
    "        u = np.random.uniform() # Genero un número aleatorio U entre 0 y 1\n",
    "        # Tiempo entre eventos: X = -ln(1-U)/lam\n",
    "        x = -np.log(1.0 - u) / lam # son los saltos de tiempo entre eventos\n",
    "        t = t + x # Actualizo el tiempo actual, se va sumando los saltos, tiempo acumulado\n",
    "        if t > T:\n",
    "            break\n",
    "        event_times.append(t) #Almaceno en una lista los tiempos de eventos\n",
    "\n",
    "    event_times = np.array(event_times) # Convierto la lista a un array de numpy\n",
    "    return event_times, len(event_times) # Devuelvo los tiempos de eventos y la cantidad de eventos\n",
    "\n",
    "\n",
    "\n",
    "if __name__ == \"__main__\": #sirve para que el código dentro de este bloque solo se ejecute si el archivo se ejecuta como un script, no si se importa como un módulo\n",
    "    #un script es un archivo que contiene código que se puede ejecutar directamente, un modulo es un archivo que contiene definiciones y declaraciones de Python que se pueden reutilizar en otros archivos\n",
    "    lam = 5.0   # eventos por hora\n",
    "    T = 3.0     # horas\n",
    "\n",
    "    times, k = simulate_poisson_process(lam, T)\n",
    "    print(f\"Tasa λ = {lam}/h, horizonte T = {T} h\")\n",
    "    print(f\"Número de eventos simulados N(T) = {k} (esperado ≈ λ·T = {lam*T:.0f})\")\n",
    "    print(\"Tiempos de ocurrencia (h):\")\n",
    "    print(np.round(times, 4))\n",
    "\n",
    "    # Validación empírica vs. teoría\n",
    "    #Solo 15 aprox eventos por simulacion. Esto porque limito tiempo a T=3h (en el codigo siguiente no lo limito y genero 10000 saltos de tiempo entre eventos y por lo tanto 10000 eventos)\n",
    "    n_runs = 10000 # cantidad de simulaciones independientes\n",
    "    counts = []     # lista para almacenar los conteos de eventos (APROX 15) en cada simulación\n",
    "    for i in range(n_runs): # simulo n_runs veces el proceso\n",
    "        i, k = simulate_poisson_process(lam, T) #\n",
    "        counts.append(k) # almaceno la cantidad de eventos en cada simulación en la lista counts (lista de 10000 elementos)\n",
    "\n",
    "    counts = np.array(counts) # convierto la lista a un array de numpy\n",
    "    mean_counts = counts.mean() # calculo la media empírica de los conteos\n",
    "\n",
    "    print(\"\\nValidación (empírico vs. teoría Poisson(λT)):\")\n",
    "    print(f\"Media empírica    ≈ {mean_counts:.3f}    (teórica: {lam*T:.3f})\")\n"
   ]
  },
  {
   "cell_type": "code",
   "execution_count": 3,
   "id": "f994288d",
   "metadata": {},
   "outputs": [
    {
     "data": {
      "image/png": "[encoded data removed]",
      "text/plain": [
       "<Figure size 700x400 with 1 Axes>"
      ]
     },
     "metadata": {},
     "output_type": "display_data"
    }
   ],
   "source": [
    "import numpy as np\n",
    "import matplotlib.pyplot as plt\n",
    "\n",
    "# Parámetros\n",
    "lam = 5.0         # tasa de eventos (eventos por unidad de tiempo)\n",
    "n   = 10000   # cantidad de muestras para que el histo se vea suave(es como pensar que no tengo que cumplir ninguna restriccion de tiempo T, hago el experimento muchas veces)\n",
    "\n",
    "# Genero exponenciales por transformada inversa:\n",
    "u = np.random.uniform(size=n) #10000 numeros aleatorios y por lo tanto 10000 saltos de tiempo entre eventos\n",
    "x = -np.log(1.0 - u) / lam   # tiempos entre eventos ~ Exp(lam)\n",
    "\n",
    "# Histograma (densidad) y PDF teórica superpuesta\n",
    "plt.figure(figsize=(7,4))\n",
    "plt.hist(x, bins=60, range=(0, 1.8), density=True, alpha=0.6, color='pink', edgecolor='fuchsia')\n",
    "#Si arriba pongo density=False, el histograma muestra conteos absolutos en lugar de densidad de probabilidad. La suma de las alturas de las barras no será igual a 1 (frecuencia relativa).\n",
    "\n",
    "#color de la distribución exponencial\n",
    "xx = np.linspace(0, 1.8, 400)\n",
    "pdf = lam * np.exp(-lam * xx)\n",
    "plt.plot(xx, pdf, linewidth=2, color='black')\n",
    "\n",
    "plt.title(\"Distribución exponencial\")\n",
    "plt.xlabel(\"x\")\n",
    "plt.ylabel(\"Densidad\")\n",
    "plt.tight_layout()\n",
    "plt.show()\n",
    "\n",
    "# Estoy demostrando que los saltos de tiempo entre eventos siguen una distribución exponencial con parámetro lam.\n",
    "# Es más probable que los saltos sean pequeños (eventos cercanos en el tiempo) y menos probable que sean grandes (eventos muy separados en el tiempo)."
   ]
  },
  {
   "cell_type": "markdown",
   "id": "9a05c33b",
   "metadata": {},
   "source": [
    "Repetir 100.000 simulaciones del proceso de Poisson hasta \n",
    "T=3\n",
    "T=3 h sumando saltos exponenciales (transformada inversa).\n",
    "\n",
    "Guardar el conteo \n",
    "N(T)\n",
    "N(T) de cada corrida.\n",
    "\n",
    "Graficar el histograma normalizado (frecuencia relativa) de esos conteos en barras amarillas y superponer la Poisson teórica con parámetro \n",
    "μ=λT=15\n",
    "μ=λT=15 en bordes negros."
   ]
  },
  {
   "cell_type": "code",
   "execution_count": null,
   "id": "ed539d04",
   "metadata": {},
   "outputs": [
    {
     "name": "stdout",
     "output_type": "stream",
     "text": [
      "Media empírica  de N(T): 15.006  (teórica: 15.000)\n",
      "Varianza empírica de N(T): 14.948 (teórica: 15.000)\n"
     ]
    },
    {
     "data": {
      "image/png": "[encoded data removed]",
      "text/plain": [
       "<Figure size 700x400 with 1 Axes>"
      ]
     },
     "metadata": {},
     "output_type": "display_data"
    }
   ],
   "source": [
    "\n",
    "import math\n",
    "\n",
    "# -------------------------------\n",
    "# Parámetros del problema\n",
    "# -------------------------------\n",
    "lam = 5.0        # tasa (eventos por hora)\n",
    "T   = 3.0        # horizonte (horas)\n",
    "mu  = lam * T    # parámetro de Poisson teórica para N(T)\n",
    "n_runs = 100_000 # cantidad de simulaciones\n",
    "seed = 42        # para reproducibilidad\n",
    "\n",
    "rng = np.random.default_rng(seed)\n",
    "\n",
    "# -------------------------------\n",
    "# Función: una simulación del proceso hasta T\n",
    "# Suma saltos exponenciales (transformada inversa)\n",
    "# y devuelve el conteo N(T)\n",
    "# -------------------------------\n",
    "def simulate_one_count(lam, T, rng):\n",
    "    t = 0.0\n",
    "    k = 0\n",
    "    while True:\n",
    "        u = rng.uniform()                # U ~ U(0,1)\n",
    "        x = -np.log(1.0 - u) / lam       # salto ~ Exp(lam) (transformada inversa)\n",
    "        t += x\n",
    "        if t > T:\n",
    "            return k\n",
    "        k += 1\n",
    "\n",
    "# -------------------------------\n",
    "# Simulaciones: repetimos 100.000 veces\n",
    "# -------------------------------\n",
    "counts_sim = np.fromiter((simulate_one_count(lam, T, rng) for _ in range(n_runs)),\n",
    "                         dtype=int, count=n_runs)\n",
    "\n",
    "# Métricas para chequear\n",
    "print(f\"Media empírica  de N(T): {counts_sim.mean():.3f}  (teórica: {mu:.3f})\")\n",
    "print(f\"Varianza empírica de N(T): {counts_sim.var(ddof=1):.3f} (teórica: {mu:.3f})\")\n",
    "\n",
    "# -------------------------------\n",
    "# Gráfico: histograma vs. Poisson teórica\n",
    "# -------------------------------\n",
    "# Bins centrados en enteros: [k-0.5, k+0.5]\n",
    "kmin = max(0, counts_sim.min())\n",
    "kmax = max(35, counts_sim.max())  # ~35 queda bien para mu=15\n",
    "bins = np.arange(kmin - 0.5, kmax + 1.5, 1.0)\n",
    "\n",
    "plt.figure(figsize=(7,4))\n",
    "\n",
    "# 1) Histograma normalizado (frecuencia relativa) de la simulación\n",
    "plt.hist(\n",
    "    counts_sim,\n",
    "    bins=bins,\n",
    "    density=True,                 # normaliza para comparar con la PDF teórica\n",
    "    facecolor=\"pink\",\n",
    "    edgecolor=\"fuchsia\",\n",
    "    label=\"Experimento\"\n",
    ")\n",
    "\n",
    "# 2) Poisson teórica: PDF en enteros k con “bordes negros”\n",
    "k_vals = np.arange(kmin, kmax + 1)\n",
    "pmf = np.exp(-mu) * np.power(mu, k_vals) / np.array([math.factorial(k) for k in k_vals])\n",
    "plt.bar(\n",
    "    k_vals, pmf, width=1.0,\n",
    "    facecolor=\"none\", edgecolor=\"black\", linewidth=1.2,\n",
    "    label=\"Poisson\"\n",
    ")\n",
    "\n",
    "# Etiquetas y estética\n",
    "plt.xlabel(\"x\")\n",
    "plt.ylabel(\"Frecuencia relativa\")\n",
    "plt.xlim(kmin-1, kmax+1)\n",
    "plt.legend()\n",
    "plt.tight_layout()\n",
    "plt.show()\n"
   ]
  },
  {
   "cell_type": "markdown",
   "id": "9a07383e",
   "metadata": {},
   "source": [
    "Qué hace cada parte (resumen rápido)\n",
    "\n",
    "simulate_one_count: implementa el método de la transformada inversa para generar un salto exponencial \n",
    "X=−ln⁡(1−U)/λ\n",
    "X=−ln(1−U)/λ y acumula hasta pasar  T. Cada corrida devuelve el conteo N(T).\n",
    "\n",
    "counts_sim: lista de \n",
    "N(T)\n",
    "N(T) para 100.000 corridas.\n",
    "\n",
    "El histograma usa density=True (frecuencia relativa) para que se pueda comparar directamente con la PDF de Poisson (barras de bordes negros)."
   ]
  },
  {
   "cell_type": "markdown",
   "id": "e3e73188",
   "metadata": {},
   "source": [
    "La simulación confirmó lo esperado teóricamente: los tiempos entre eventos generados por transformada inversa siguen una distribución exponencial con λ = 5/h (hay muchos saltos pequeños y pocos grandes). Al acumular esos saltos hasta T = 3 h, el número de eventos N(T) se comporta como una Poisson con parámetro λT = 15. La media y la varianza empíricas quedaron muy cerca de 15 (coherente con que en Poisson media = varianza) y el histograma de los conteos ajustó bien a la distribución teórica. En resumen, el experimento verifica la relación entre tiempos exponenciales y conteos Poisson y muestra que el método de la transformada inversa funciona correctamente."
   ]
  }
 ],
 "metadata": {
  "kernelspec": {
   "display_name": "astrometria",
   "language": "python",
   "name": "python3"
  },
  "language_info": {
   "codemirror_mode": {
    "name": "ipython",
    "version": 3
   },
   "file_extension": ".py",
   "mimetype": "text/x-python",
   "name": "python",
   "nbconvert_exporter": "python",
   "pygments_lexer": "ipython3",
   "version": "3.13.5"
  }
 },
 "nbformat": 4,
 "nbformat_minor": 5
}
