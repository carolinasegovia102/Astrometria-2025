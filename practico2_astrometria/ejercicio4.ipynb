{
 "cells": [
  {
   "cell_type": "markdown",
   "id": "aa8c14b3",
   "metadata": {},
   "source": [
    "### Distribución exponencial: La distribución exponencial viene dada por:\n",
    "\n",
    "$f(x)=\\lambda e^{-\\lambda x}$\n",
    "\n",
    "y podemos calcular su CDF como:\n",
    "\n",
    "$F(x)=\\int_0^x \\lambda e^{-\\lambda x'}dx' = 1 - e^{-\\lambda x}$\n",
    "\n",
    "cuya inversa resulta en:\n",
    "    \n",
    "$y = 1 - e^{-\\lambda x} \\quad\\Longleftrightarrow\\quad x = -\\frac{\\ln(1-y)}{\\lambda}$\n",
    "\n",
    "Si repetimos muchas veces el experimento, el resultado en un intervalo de longitud fija debe aproximar una distribución de Poisson, la cual viene dada por:\n",
    "\n",
    "$p(k)=\\frac{e^{-\\lambda}\\lambda^{k}}{k!}$\n"
   ]
  },
  {
   "cell_type": "code",
   "execution_count": 27,
   "id": "1b8c5a7e",
   "metadata": {},
   "outputs": [
    {
     "name": "stdout",
     "output_type": "stream",
     "text": [
      "Tasa λ = 5.0/h, horizonte T = 3.0 h\n",
      "Número de eventos simulados N(T) = 15 (esperado ≈ λ·T = 15)\n",
      "Tiempos de ocurrencia (h):\n",
      "[0.0256 0.1672 0.1745 0.4807 0.8297 0.8396 0.9769 1.3968 2.073  2.3077\n",
      " 2.5095 2.5553 2.7843 2.8759 2.8806]\n",
      "\n",
      "Validación (empírico vs. teoría Poisson(λT)):\n",
      "Media empírica    ≈ 15.050    (teórica: 15.000)\n"
     ]
    }
   ],
   "source": [
    "import numpy as np\n",
    "\n",
    "def simulate_poisson_process(lam, T ):\n",
    "    \"\"\"\n",
    "    Simula un proceso de Poisson homogéneo con tasa lam (eventos por unidad de tiempo)\n",
    "    hasta el tiempo T, usando el método de la transformada inversa para los tiempos\n",
    "    entre eventos (Exponencial(lam)).\n",
    "\n",
    "    Devuelve:\n",
    "      - event_times: array con los tiempos de ocurrencia en (0, T]\n",
    "      - n_events: cantidad total de eventos en [0, T]\n",
    "    \"\"\"\n",
    "\n",
    "\n",
    "    t = 0.0\n",
    "    event_times = [] # Lista para almacenar los tiempos de eventos\n",
    "\n",
    "    while True: # Bucle hasta que el tiempo exceda T\n",
    "        # Genero U ~ Uniform(0,1)\n",
    "        u = np.random.uniform() # Genero un número aleatorio U entre 0 y 1\n",
    "        # Tiempo entre eventos: X = -ln(1-U)/lam\n",
    "        x = -np.log(1.0 - u) / lam # son los saltos de tiempo entre eventos\n",
    "        t = t + x # Actualizo el tiempo actual, se va sumando los saltos, tiempo acumulado\n",
    "        if t > T:\n",
    "            break\n",
    "        event_times.append(t) #Almaceno en una lista los tiempos de eventos\n",
    "\n",
    "    event_times = np.array(event_times) # Convierto la lista a un array de numpy\n",
    "    return event_times, len(event_times) # Devuelvo los tiempos de eventos y la cantidad de eventos\n",
    "\n",
    "\n",
    "\n",
    "if __name__ == \"__main__\": #sirve para que el código dentro de este bloque solo se ejecute si el archivo se ejecuta como un script, no si se importa como un módulo\n",
    "    #un script es un archivo que contiene código que se puede ejecutar directamente, un modulo es un archivo que contiene definiciones y declaraciones de Python que se pueden reutilizar en otros archivos\n",
    "    lam = 5.0   # eventos por hora\n",
    "    T = 3.0     # horas\n",
    "\n",
    "    times, k = simulate_poisson_process(lam, T)\n",
    "    print(f\"Tasa λ = {lam}/h, horizonte T = {T} h\")\n",
    "    print(f\"Número de eventos simulados N(T) = {k} (esperado ≈ λ·T = {lam*T:.0f})\")\n",
    "    print(\"Tiempos de ocurrencia (h):\")\n",
    "    print(np.round(times, 4))\n",
    "\n",
    "    # Validación empírica vs. teoría\n",
    "    n_runs = 10000 # cantidad de simulaciones independientes\n",
    "    counts = []     # lista para almacenar los conteos de eventos en cada simulación\n",
    "    for i in range(n_runs): # simulo n_runs veces el proceso\n",
    "        i, k = simulate_poisson_process(lam, T) #\n",
    "        counts.append(k) # almaceno la cantidad de eventos en cada simulación en la lista counts (lista de 10000 elementos)\n",
    "\n",
    "    counts = np.array(counts) # convierto la lista a un array de numpy\n",
    "    mean_counts = counts.mean() # calculo la media empírica de los conteos\n",
    "\n",
    "    print(\"\\nValidación (empírico vs. teoría Poisson(λT)):\")\n",
    "    print(f\"Media empírica    ≈ {mean_counts:.3f}    (teórica: {lam*T:.3f})\")\n"
   ]
  },
  {
   "cell_type": "code",
   "execution_count": 26,
   "id": "f994288d",
   "metadata": {},
   "outputs": [
    {
     "data": {
      "image/png": "[encoded data removed]",
      "text/plain": [
       "<Figure size 700x400 with 1 Axes>"
      ]
     },
     "metadata": {},
     "output_type": "display_data"
    }
   ],
   "source": [
    "import numpy as np\n",
    "import matplotlib.pyplot as plt\n",
    "\n",
    "# Parámetros\n",
    "lam = 5.0         # tasa de eventos (eventos por unidad de tiempo)\n",
    "n   = 10000   # cantidad de muestras para que el histo se vea suave\n",
    "\n",
    "# Genero exponenciales por transformada inversa:\n",
    "u = np.random.uniform(size=n)\n",
    "x = -np.log(1.0 - u) / lam   # tiempos entre eventos ~ Exp(lam)\n",
    "\n",
    "# Histograma (densidad) y PDF teórica superpuesta\n",
    "plt.figure(figsize=(7,4))\n",
    "plt.hist(x, bins=60, range=(0, 1.8), density=True, alpha=0.6, edgecolor='none')\n",
    "\n",
    "xx = np.linspace(0, 1.8, 400)\n",
    "pdf = lam * np.exp(-lam * xx)\n",
    "plt.plot(xx, pdf, linewidth=2)\n",
    "\n",
    "plt.title(\"Distribución exponencial\")\n",
    "plt.xlabel(\"x\")\n",
    "plt.ylabel(\"Densidad\")\n",
    "plt.tight_layout()\n",
    "plt.show()\n",
    "\n",
    "# Estoy demostrando que los saltos de tiempo entre eventos siguen una distribución exponencial con parámetro lam.\n",
    "# Es más probable que los saltos sean pequeños (eventos cercanos en el tiempo) y menos probable que sean grandes (eventos muy separados en el tiempo)."
   ]
  }
 ],
 "metadata": {
  "kernelspec": {
   "display_name": "astrometria",
   "language": "python",
   "name": "python3"
  },
  "language_info": {
   "codemirror_mode": {
    "name": "ipython",
    "version": 3
   },
   "file_extension": ".py",
   "mimetype": "text/x-python",
   "name": "python",
   "nbconvert_exporter": "python",
   "pygments_lexer": "ipython3",
   "version": "3.13.5"
  }
 },
 "nbformat": 4,
 "nbformat_minor": 5
}
