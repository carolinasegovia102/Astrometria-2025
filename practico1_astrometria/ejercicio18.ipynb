{
 "cells": [
  {
   "cell_type": "code",
   "execution_count": null,
   "id": "29cf0ab6",
   "metadata": {},
   "outputs": [],
   "source": [
    "import numpy as np\n",
    "# Numpy es una biblioteca de Python. Su función principal es ofrecer una estructura de datos eficiente llamada ndarray: un arreglo (array) \n",
    "# multidimensional optimizado para realizar operaciones matemáticas y estadísticas de forma rápida.\n",
    "import matplotlib.pyplot as plt"
   ]
  },
  {
   "cell_type": "code",
   "execution_count": null,
   "id": "aefdf0a6",
   "metadata": {},
   "outputs": [],
   "source": [
    "def generador_congruencia_lineal(n, x0, a=57, c=1, M=256):\n",
    "    numeros = [] #lista donde se guardara la secuencia generada\n",
    "    for i in range(n): #bucle que genera n numeros\n",
    "        x = (c + a*x0) %M\n",
    "        numeros.append\n",
    "        x0 = x #garantiza que tome como primer valor el x0\n",
    "    return numeros\n",
    "\n",
    " gcl = generador_congruencia_lineal(1000) #ejecuta el generador y guarda los N=1000 valores normalizados en array lcg"
   ]
  }
 ],
 "metadata": {
  "language_info": {
   "name": "python"
  }
 },
 "nbformat": 4,
 "nbformat_minor": 5
}
